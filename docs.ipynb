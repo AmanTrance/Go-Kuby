{
 "cells": [
  {
   "cell_type": "markdown",
   "id": "39f133bb-21c9-42cb-a3bb-638ff9ccfbc2",
   "metadata": {},
   "source": [
    "# Elegant Go server\n",
    "\n",
    "<h2>Description of Endpoints</h2>\n",
    "\n",
    "It is just a mock up server mimicking the parser subsystem by sleep parameters and handling go routines based on max number of go routines allowed.\n",
    "\n",
    "**Remember to run valkey docker container which should be exposed to PORT 6379** \n",
    "\n",
    "******* url =  localhost || your public ip || domain *******"
   ]
  },
  {
   "cell_type": "markdown",
   "id": "2464c799-937f-403e-bccd-2447d1996716",
   "metadata": {},
   "source": [
    "1 ->  {url}/path ---------------- HTTP Method = Any ---------------- Just a normal handler where you send a request for to process something which is compute heavy and we just put it in a valkey queue so that we cacn manage our resources."
   ]
  },
  {
   "cell_type": "markdown",
   "id": "e2ed4339-4374-40e4-9792-911250b4aaf0",
   "metadata": {},
   "source": [
    "2 ->  {url}/thread ---------------- HTTP Method = Put ---------------- Updates the compute heavy threads you want to have a limit of running on your system."
   ]
  },
  {
   "cell_type": "markdown",
   "id": "7d11e10f-f8bc-435c-a67c-64e31d7b4c88",
   "metadata": {},
   "source": [
    "3 -> {url}/count ---------------- HTTP Method = Get ---------------- Get the descriptive metrics of what's going on so that you can scale up and scale down."
   ]
  },
  {
   "cell_type": "markdown",
   "id": "32656ff9-869a-42bf-b8ed-44861f79218f",
   "metadata": {},
   "source": [
    "4 -> {url}/sleep ---------------- HTTP Method = Put ---------------- It's a parameter you can change denotes in how much time you want to check again for if the current thread count becomes less than or equal to max thread count or not during waiting. "
   ]
  },
  {
   "cell_type": "markdown",
   "id": "88d4bbe9-7064-415e-adac-b482ba57f83e",
   "metadata": {},
   "source": [
    "******Request Payload******\n",
    "\n",
    "**only json is supported"
   ]
  },
  {
   "cell_type": "markdown",
   "id": "ea378016-68b9-4ea0-9be5-40d02d0a150b",
   "metadata": {},
   "source": [
    "for 1 ->  Any Payload which is compute heavy, we will take care of it."
   ]
  },
  {
   "cell_type": "markdown",
   "id": "1abc2488-742c-4fe2-9691-7add5aa1809e",
   "metadata": {},
   "source": [
    "for 2 -> {\n",
    "    \"secretKey\" : string\n",
    "    \"value\" : int\n",
    "}"
   ]
  },
  {
   "cell_type": "markdown",
   "id": "9d19e785-3d41-42ce-82aa-c8550ac7a067",
   "metadata": {},
   "source": [
    "for 3 -> {\n",
    "    \"secretKey\" : string\n",
    "    \"value\" : int\n",
    "}"
   ]
  },
  {
   "cell_type": "markdown",
   "id": "32b026f9-d418-44a2-8319-e84cf4d389e5",
   "metadata": {},
   "source": [
    "for 4 -> Nothing you can modify if you want. "
   ]
  }
 ],
 "metadata": {
  "kernelspec": {
   "display_name": "Python 3 (ipykernel)",
   "language": "python",
   "name": "python3"
  },
  "language_info": {
   "codemirror_mode": {
    "name": "ipython",
    "version": 3
   },
   "file_extension": ".py",
   "mimetype": "text/x-python",
   "name": "python",
   "nbconvert_exporter": "python",
   "pygments_lexer": "ipython3",
   "version": "3.12.5"
  }
 },
 "nbformat": 4,
 "nbformat_minor": 5
}
